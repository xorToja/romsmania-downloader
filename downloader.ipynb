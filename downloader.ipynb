{
 "cells": [
  {
   "cell_type": "code",
   "execution_count": 1,
   "id": "surrounded-academy",
   "metadata": {},
   "outputs": [],
   "source": [
    "from bs4 import BeautifulSoup\n",
    "import requests\n",
    "import pandas as pd\n",
    "import time\n",
    "import re"
   ]
  },
  {
   "cell_type": "code",
   "execution_count": 2,
   "id": "quiet-carnival",
   "metadata": {},
   "outputs": [],
   "source": [
    "# connect to page, and get its content\n",
    "def page_content(url):\n",
    "    r = requests.get(url)\n",
    "    soup = BeautifulSoup(r.content, 'html.parser')\n",
    "    return soup\n",
    "\n",
    "\n",
    "###main_soup = page_content(\"https://romsmania.cc/roms/gameboy-advance\")\n",
    "\n",
    "# find all links to roms on given page\n",
    "def find_all_rom_links(soup):\n",
    "    download_first_part = \"https://romsmania.cc/download/roms/gameboy-advance/\"\n",
    "    tmp_dict = dict()\n",
    "    table = soup.find('table', 'table')\n",
    "    for each in table.find_all('td'):\n",
    "        link = each.find('a')\n",
    "        if link: \n",
    "            tmp_dict[each.text.strip()] = download_first_part + link.get('href').rsplit('/', 1)[-1]\n",
    "    return tmp_dict\n",
    "    \n",
    "###first_dict = find_all_rom_links(main_soup)\n",
    "\n",
    "# prepare download link (make pauses!!!)\n",
    "def get_download_link(url):\n",
    "    soup = page_content(url)\n",
    "    a = soup.find('a', 'wait__link')\n",
    "    link = a.get('href')\n",
    "    return link\n",
    "\n",
    "# download zip file with game\n",
    "def download_url(url, name, chunk_size=128):\n",
    "    print(\"downloading: \\\"\", name, \" \\\"please wait...\")\n",
    "    save_path = \"D:/Pliki/roms/\" + name + \".zip\"\n",
    "    r = requests.get(url, stream=True)\n",
    "    with open(save_path, 'wb') as fd:\n",
    "        for chunk in r.iter_content(chunk_size=chunk_size):\n",
    "            fd.write(chunk)\n",
    "            \n",
    "def create_page_link(number):\n",
    "    beginning = \"https://romsmania.cc/roms/gameboy-advance/search?name=&genre=&region=&orderBy=name&orderAsc=1&page=\"\n",
    "    return beginning + str(number)\n"
   ]
  },
  {
   "cell_type": "code",
   "execution_count": null,
   "id": "double-syracuse",
   "metadata": {},
   "outputs": [],
   "source": [
    "counter = 1 \n",
    "#for i in range(1, 127):\n",
    "for i in range(1, 127):\n",
    "    print('*'*5, f\"procedding {i} of 127 pages...\", '*'*5)\n",
    "    #get page link\n",
    "    link = create_page_link(i)\n",
    "    #get content of page\n",
    "    content = page_content(link)\n",
    "    #get all roms as links\n",
    "    dictionary = find_all_rom_links(content)\n",
    "    for name, address in dictionary.items():\n",
    "        print('*'*5, f\"step {counter} of 2540\", '*'*5)\n",
    "        dlink = get_download_link(address)\n",
    "        download_url(dlink, name)\n",
    "        time.sleep(2)\n",
    "        counter+=1\n",
    "    time.sleep(2)\n",
    "\n",
    "\n",
    "\n"
   ]
  },
  {
   "cell_type": "code",
   "execution_count": null,
   "id": "similar-ukraine",
   "metadata": {},
   "outputs": [],
   "source": []
  }
 ],
 "metadata": {
  "kernelspec": {
   "display_name": "Python 3",
   "language": "python",
   "name": "python3"
  },
  "language_info": {
   "codemirror_mode": {
    "name": "ipython",
    "version": 3
   },
   "file_extension": ".py",
   "mimetype": "text/x-python",
   "name": "python",
   "nbconvert_exporter": "python",
   "pygments_lexer": "ipython3",
   "version": "3.7.9"
  }
 },
 "nbformat": 4,
 "nbformat_minor": 5
}
